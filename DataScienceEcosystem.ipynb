{
 "cells": [
  {
   "cell_type": "markdown",
   "id": "4dd241c9-b61e-4d7b-9403-67291fda5ea9",
   "metadata": {},
   "source": [
    "# Data Science Tools and Ecosystem"
   ]
  },
  {
   "cell_type": "markdown",
   "id": "d0c835c7-f27d-4f3a-8d21-a6ae97cf1740",
   "metadata": {},
   "source": [
    "In this notebook, Data Science Tools and Ecosystem are summarized"
   ]
  },
  {
   "cell_type": "markdown",
   "id": "3356dc3e-f7e7-4b0d-8b73-ab05b0296dd0",
   "metadata": {},
   "source": [
    "**Objectives:**\n",
    "* List of popular languages for Data Science\n",
    "* List of commonly used libraries in Data Science\n",
    "* Arithmetic Expressions in Python"
   ]
  },
  {
   "cell_type": "markdown",
   "id": "8d981f77-921b-4fb0-8190-4c319b5b489c",
   "metadata": {},
   "source": [
    "Some of the popular languages that Data Scientists use are: \n",
    "1. Python\n",
    "2. SQL \n",
    "3. R "
   ]
  },
  {
   "cell_type": "markdown",
   "id": "c5d44ca1-0627-4d2a-be30-1612a776932f",
   "metadata": {},
   "source": [
    "Some of the commonly used libraries used by Data Scientists include: \n",
    "1. Pandas\n",
    "2. Matplotlib\n",
    "3. NumPy"
   ]
  },
  {
   "cell_type": "markdown",
   "id": "7a0cb3bf-f0c4-471a-9f62-3b3e601082a7",
   "metadata": {},
   "source": [
    "| Data Science Tools|\n",
    "|---------------------|\n",
    "| Tableau |\n",
    "|Jupyter Notebooks|\n",
    "|R Studio|"
   ]
  },
  {
   "cell_type": "markdown",
   "id": "f6bbd7ce-80bc-4e54-bc75-cbd398cd2921",
   "metadata": {},
   "source": [
    "### Below are a few examples of evaluating arithmetic expressions in Python"
   ]
  },
  {
   "cell_type": "code",
   "execution_count": 1,
   "id": "c2d79810-9eae-413f-a793-2db70ef7a5ef",
   "metadata": {
    "tags": []
   },
   "outputs": [
    {
     "data": {
      "text/plain": [
       "17"
      ]
     },
     "execution_count": 1,
     "metadata": {},
     "output_type": "execute_result"
    }
   ],
   "source": [
    "# This is a simple arithmetic expression to multiply then add integers\n",
    "(3*4) + 5"
   ]
  },
  {
   "cell_type": "code",
   "execution_count": 14,
   "id": "cb3dc32a-7233-4145-8e03-4d966eb59a39",
   "metadata": {
    "tags": []
   },
   "outputs": [
    {
     "data": {
      "text/plain": [
       "3"
      ]
     },
     "execution_count": 14,
     "metadata": {},
     "output_type": "execute_result"
    }
   ],
   "source": [
    "# This will convert 200 minutes to hours by dividing by 60; rounding down to nearest integer using floor method in math library\n",
    "import math\n",
    "math.floor(200/60)"
   ]
  },
  {
   "cell_type": "markdown",
   "id": "0ee91226-6430-4a2d-b2fa-c89fb5d1acfc",
   "metadata": {},
   "source": [
    "## Author\n",
    "Leslie"
   ]
  },
  {
   "cell_type": "code",
   "execution_count": null,
   "id": "42f7c433-a714-46d9-bfc4-c6d36dbdcac8",
   "metadata": {},
   "outputs": [],
   "source": []
  }
 ],
 "metadata": {
  "kernelspec": {
   "display_name": "Python",
   "language": "python",
   "name": "conda-env-python-py"
  },
  "language_info": {
   "codemirror_mode": {
    "name": "ipython",
    "version": 3
   },
   "file_extension": ".py",
   "mimetype": "text/x-python",
   "name": "python",
   "nbconvert_exporter": "python",
   "pygments_lexer": "ipython3",
   "version": "3.7.12"
  }
 },
 "nbformat": 4,
 "nbformat_minor": 5
}
