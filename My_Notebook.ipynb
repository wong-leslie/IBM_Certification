{
 "cells": [
  {
   "cell_type": "markdown",
   "id": "7ea7c5f6-cf3a-41a7-b58e-42cf00efcb7d",
   "metadata": {},
   "source": [
    "# My First Program"
   ]
  },
  {
   "cell_type": "code",
   "execution_count": 1,
   "id": "907df8b7-32cd-489a-a4c7-6a466ea7f511",
   "metadata": {
    "scrolled": true
   },
   "outputs": [
    {
     "data": {
      "text/plain": [
       "2"
      ]
     },
     "execution_count": 1,
     "metadata": {},
     "output_type": "execute_result"
    }
   ],
   "source": [
    "1+1"
   ]
  },
  {
   "cell_type": "markdown",
   "id": "67e150ea-92e7-4bae-bcba-0f71cc855746",
   "metadata": {},
   "source": [
    "1. 1\n",
    "2. 2\n",
    "3. 3\n",
    "4. 4\n",
    "5. 5"
   ]
  },
  {
   "cell_type": "code",
   "execution_count": 2,
   "id": "0bf75dca-61d8-403b-a61b-9b1bd714719a",
   "metadata": {},
   "outputs": [
    {
     "name": "stdout",
     "output_type": "stream",
     "text": [
      "5\n",
      "25\n"
     ]
    }
   ],
   "source": [
    "x = min(5, 10, 25)\n",
    "y = max(5, 10, 25)\n",
    "\n",
    "print(x)\n",
    "print(y)"
   ]
  },
  {
   "cell_type": "code",
   "execution_count": 3,
   "id": "4c74d60c-d901-40c3-844f-36d27fbaba70",
   "metadata": {},
   "outputs": [
    {
     "name": "stdout",
     "output_type": "stream",
     "text": [
      "64\n"
     ]
    }
   ],
   "source": [
    "1\n",
    "2\n",
    "3\n",
    "\n",
    "x = pow(4, 3)\n",
    "print(x)"
   ]
  },
  {
   "cell_type": "code",
   "execution_count": null,
   "id": "294ce003-da1b-4d6e-8959-cca6a16ebbd2",
   "metadata": {},
   "outputs": [],
   "source": []
  }
 ],
 "metadata": {
  "kernelspec": {
   "display_name": "Python 3 (ipykernel)",
   "language": "python",
   "name": "python3"
  },
  "language_info": {
   "codemirror_mode": {
    "name": "ipython",
    "version": 3
   },
   "file_extension": ".py",
   "mimetype": "text/x-python",
   "name": "python",
   "nbconvert_exporter": "python",
   "pygments_lexer": "ipython3",
   "version": "3.11.8"
  }
 },
 "nbformat": 4,
 "nbformat_minor": 5
}
